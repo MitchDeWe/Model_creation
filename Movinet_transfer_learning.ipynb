{
  "nbformat": 4,
  "nbformat_minor": 0,
  "metadata": {
    "colab": {
      "provenance": [],
      "authorship_tag": "ABX9TyNSMCxqZ0NZmqGmEc/m/LCs",
      "include_colab_link": true
    },
    "kernelspec": {
      "name": "python3",
      "display_name": "Python 3"
    },
    "language_info": {
      "name": "python"
    }
  },
  "cells": [
    {
      "cell_type": "markdown",
      "metadata": {
        "id": "view-in-github",
        "colab_type": "text"
      },
      "source": [
        "<a href=\"https://colab.research.google.com/github/MitchDeWe/Thesis/blob/main/Movinet_transfer_learning.ipynb\" target=\"_parent\"><img src=\"https://colab.research.google.com/assets/colab-badge.svg\" alt=\"Open In Colab\"/></a>"
      ]
    },
    {
      "cell_type": "markdown",
      "source": [
        "This is code generating and training a custom model from the tutorial outlined at https://github.com/tensorflow/models/blob/master/official/projects/movinet/movinet_streaming_model_training_and_inference.ipynb "
      ],
      "metadata": {
        "id": "Qj_6BViQQJ2d"
      }
    },
    {
      "cell_type": "code",
      "source": [],
      "metadata": {
        "id": "4hiOf99NQq6l"
      },
      "execution_count": null,
      "outputs": []
    }
  ]
}